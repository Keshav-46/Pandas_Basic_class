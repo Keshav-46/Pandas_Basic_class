{
  "nbformat": 4,
  "nbformat_minor": 0,
  "metadata": {
    "colab": {
      "name": "Pandas_Basic_class_note.ipynb",
      "provenance": [],
      "authorship_tag": "ABX9TyM6eT4YDdGNrVuef/se7k7R",
      "include_colab_link": true
    },
    "kernelspec": {
      "name": "python3",
      "display_name": "Python 3"
    },
    "language_info": {
      "name": "python"
    }
  },
  "cells": [
    {
      "cell_type": "markdown",
      "metadata": {
        "id": "view-in-github",
        "colab_type": "text"
      },
      "source": [
        "<a href=\"https://colab.research.google.com/github/Keshav-46/Pandas_Basic_class/blob/main/Pandas_Basic_class_note.ipynb\" target=\"_parent\"><img src=\"https://colab.research.google.com/assets/colab-badge.svg\" alt=\"Open In Colab\"/></a>"
      ]
    },
    {
      "cell_type": "code",
      "execution_count": null,
      "metadata": {
        "id": "DB9d7BFq4cyF"
      },
      "outputs": [],
      "source": [
        ""
      ]
    }
  ]
}